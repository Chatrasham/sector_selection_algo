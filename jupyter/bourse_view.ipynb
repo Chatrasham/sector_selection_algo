{
 "cells": [
  {
   "cell_type": "code",
   "execution_count": 45,
   "metadata": {},
   "outputs": [],
   "source": [
    "import os\n",
    "from pytse_client.download import download_financial_indexes\n",
    "import pandas as pd\n",
    "import jalali_pandas\n",
    "import math\n",
    "import numpy as np\n",
    "import warnings\n",
    "warnings.filterwarnings(\"ignore\")"
   ]
  },
  {
   "cell_type": "code",
   "execution_count": 46,
   "metadata": {},
   "outputs": [],
   "source": [
    "desktop = os.path.join(os.path.join(os.path.expanduser('~')), 'Desktop') \n",
    "bourse_view = os.path.join(desktop, \"sector_slc\", \"bourse_view\")\n",
    "sectors_data_path = os.path.join(bourse_view, \"sectors\")\n",
    "market_data_path = os.path.join(bourse_view, \"market\")\n",
    "list_of_files = os.listdir(sectors_data_path)"
   ]
  },
  {
   "cell_type": "code",
   "execution_count": 47,
   "metadata": {},
   "outputs": [
    {
     "data": {
      "text/plain": [
       "'آهن و فولاد.xlsx'"
      ]
     },
     "execution_count": 47,
     "metadata": {},
     "output_type": "execute_result"
    }
   ],
   "source": [
    "list_of_files[0]"
   ]
  },
  {
   "cell_type": "code",
   "execution_count": 49,
   "metadata": {},
   "outputs": [],
   "source": [
    "data = pd.read_excel(sectors_data_path+ \"\\\\\" + list_of_files[0])\n",
    "first_row_with_pe_ttm = data[data[\"P/E-ttm\"] != \"-\"].iloc[-1].name \n",
    "data = data[:first_row_with_pe_ttm + 1]\n",
    "first_row_with_trade_value = data[data[\"ارزش معاملات\"] != \"-\"].iloc[-1].name \n",
    "data = data[:first_row_with_trade_value + 1]\n",
    "first_row_with_pct_change = data[data[\"درصد تغییر\"] != \"-\"].iloc[-1].name \n",
    "data = data[:first_row_with_pct_change + 1]\n",
    "data = data[[\"تاریخ شمسی\",\"درصد تغییر\",\"ارزش معاملات\",\"P/E-ttm\"]]\n",
    "data = data.replace('-', np.nan)\n",
    "data[\"date\"] = data[\"تاریخ شمسی\"].jalali.parse_jalali(\"%Y-%m-%d\")\n",
    "data[\"month\"] = data[\"date\"].jalali.month\n",
    "data[\"year\"] = data[\"date\"].jalali.year\n",
    "data[\"weekday\"] = data[\"date\"].jalali.weekday\n",
    "data[\"day\"] = data[\"date\"].jalali.day\n",
    "data = data.drop([\"تاریخ شمسی\"],axis=1)\n",
    "data.rename(columns = {'درصد تغییر':'daylit_return', 'ارزش معاملات':'trade_value'}, inplace = True)"
   ]
  }
 ],
 "metadata": {
  "kernelspec": {
   "display_name": "inv_mng_prj",
   "language": "python",
   "name": "python3"
  },
  "language_info": {
   "codemirror_mode": {
    "name": "ipython",
    "version": 3
   },
   "file_extension": ".py",
   "mimetype": "text/x-python",
   "name": "python",
   "nbconvert_exporter": "python",
   "pygments_lexer": "ipython3",
   "version": "3.10.0"
  },
  "orig_nbformat": 4,
  "vscode": {
   "interpreter": {
    "hash": "f287b3f52836ae795f710361b617a45f6fcae253de3d4fe1ee211c8b8c38d902"
   }
  }
 },
 "nbformat": 4,
 "nbformat_minor": 2
}
