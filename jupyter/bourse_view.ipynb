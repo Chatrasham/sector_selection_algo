{
 "cells": [
  {
   "cell_type": "code",
   "execution_count": 44,
   "metadata": {},
   "outputs": [],
   "source": [
    "import os\n",
    "from pytse_client.download import download_financial_indexes\n",
    "import pandas as pd\n",
    "import jalali_pandas\n",
    "import math\n",
    "import numpy as np\n",
    "import warnings\n",
    "warnings.filterwarnings(\"ignore\")"
   ]
  },
  {
   "cell_type": "code",
   "execution_count": 45,
   "metadata": {},
   "outputs": [],
   "source": [
    "desktop = os.path.join(os.path.join(os.path.expanduser('~')), 'Desktop') \n",
    "bourse_view = os.path.join(desktop, \"bourse_view\")\n",
    "sectors_data_path = os.path.join(bourse_view, \"sectors\")\n",
    "market_data_path = os.path.join(bourse_view, \"market\")"
   ]
  },
  {
   "cell_type": "code",
   "execution_count": 46,
   "metadata": {},
   "outputs": [],
   "source": [
    "list_of_files = os.listdir(sectors_data_path)"
   ]
  },
  {
   "cell_type": "code",
   "execution_count": 47,
   "metadata": {},
   "outputs": [],
   "source": [
    "data = pd.read_excel(sectors_data_path+ \"\\\\\" + list_of_files[0])"
   ]
  },
  {
   "cell_type": "code",
   "execution_count": 48,
   "metadata": {},
   "outputs": [
    {
     "data": {
      "text/plain": [
       "'آهن و فولاد.xlsx'"
      ]
     },
     "execution_count": 48,
     "metadata": {},
     "output_type": "execute_result"
    }
   ],
   "source": [
    "list_of_files[0]"
   ]
  },
  {
   "cell_type": "code",
   "execution_count": 49,
   "metadata": {},
   "outputs": [
    {
     "data": {
      "text/plain": [
       "5.1873299411"
      ]
     },
     "execution_count": 49,
     "metadata": {},
     "output_type": "execute_result"
    }
   ],
   "source": [
    "data[\"P/E-ttm\"][5016]"
   ]
  },
  {
   "cell_type": "code",
   "execution_count": 50,
   "metadata": {},
   "outputs": [
    {
     "data": {
      "text/plain": [
       "5016"
      ]
     },
     "execution_count": 50,
     "metadata": {},
     "output_type": "execute_result"
    }
   ],
   "source": [
    "data[data[\"P/E-ttm\"] != \"-\"].iloc[-1].name"
   ]
  },
  {
   "cell_type": "code",
   "execution_count": 52,
   "metadata": {},
   "outputs": [
    {
     "data": {
      "text/html": [
       "<div>\n",
       "<style scoped>\n",
       "    .dataframe tbody tr th:only-of-type {\n",
       "        vertical-align: middle;\n",
       "    }\n",
       "\n",
       "    .dataframe tbody tr th {\n",
       "        vertical-align: top;\n",
       "    }\n",
       "\n",
       "    .dataframe thead th {\n",
       "        text-align: right;\n",
       "    }\n",
       "</style>\n",
       "<table border=\"1\" class=\"dataframe\">\n",
       "  <thead>\n",
       "    <tr style=\"text-align: right;\">\n",
       "      <th></th>\n",
       "      <th>تاریخ میلادی</th>\n",
       "      <th>تاریخ شمسی</th>\n",
       "      <th>آخرین معامله</th>\n",
       "      <th>میزان تغییر</th>\n",
       "      <th>درصد تغییر</th>\n",
       "      <th>حجم</th>\n",
       "      <th>ارزش معاملات</th>\n",
       "      <th>سهام شناور</th>\n",
       "      <th>ارزش بازار</th>\n",
       "      <th>P/E-ttm</th>\n",
       "      <th>P/B</th>\n",
       "      <th>P/S</th>\n",
       "    </tr>\n",
       "  </thead>\n",
       "  <tbody>\n",
       "    <tr>\n",
       "      <th>0</th>\n",
       "      <td>2023-01-03</td>\n",
       "      <td>1401-10-13</td>\n",
       "      <td>1818560.0</td>\n",
       "      <td>-2233</td>\n",
       "      <td>-0.001226</td>\n",
       "      <td>243115147</td>\n",
       "      <td>1228814419418</td>\n",
       "      <td>0.237</td>\n",
       "      <td>7324831194524502</td>\n",
       "      <td>-</td>\n",
       "      <td>-</td>\n",
       "      <td>-</td>\n",
       "    </tr>\n",
       "    <tr>\n",
       "      <th>1</th>\n",
       "      <td>2023-01-02</td>\n",
       "      <td>1401-10-12</td>\n",
       "      <td>1820793.0</td>\n",
       "      <td>28128</td>\n",
       "      <td>0.015691</td>\n",
       "      <td>393026618</td>\n",
       "      <td>2185624031836</td>\n",
       "      <td>0.2364</td>\n",
       "      <td>7333827742044502</td>\n",
       "      <td>5.920952</td>\n",
       "      <td>3.295385</td>\n",
       "      <td>1.901321</td>\n",
       "    </tr>\n",
       "    <tr>\n",
       "      <th>2</th>\n",
       "      <td>2023-01-01</td>\n",
       "      <td>1401-10-11</td>\n",
       "      <td>1792665.0</td>\n",
       "      <td>-36475</td>\n",
       "      <td>-0.019941</td>\n",
       "      <td>536635834</td>\n",
       "      <td>2966493849133</td>\n",
       "      <td>0.2345</td>\n",
       "      <td>7220531918556502</td>\n",
       "      <td>5.826747</td>\n",
       "      <td>3.244476</td>\n",
       "      <td>1.871949</td>\n",
       "    </tr>\n",
       "    <tr>\n",
       "      <th>3</th>\n",
       "      <td>2022-12-31</td>\n",
       "      <td>1401-10-10</td>\n",
       "      <td>1829140.0</td>\n",
       "      <td>-73189</td>\n",
       "      <td>-0.038473</td>\n",
       "      <td>993447518</td>\n",
       "      <td>4881891737450</td>\n",
       "      <td>-</td>\n",
       "      <td>7367448814396502</td>\n",
       "      <td>5.948908</td>\n",
       "      <td>3.310492</td>\n",
       "      <td>1.910038</td>\n",
       "    </tr>\n",
       "    <tr>\n",
       "      <th>4</th>\n",
       "      <td>2022-12-28</td>\n",
       "      <td>1401-10-07</td>\n",
       "      <td>1902329.0</td>\n",
       "      <td>99894</td>\n",
       "      <td>0.055422</td>\n",
       "      <td>740953989</td>\n",
       "      <td>4739281486871</td>\n",
       "      <td>-</td>\n",
       "      <td>7662239165340502</td>\n",
       "      <td>6.194025</td>\n",
       "      <td>3.442953</td>\n",
       "      <td>1.986463</td>\n",
       "    </tr>\n",
       "    <tr>\n",
       "      <th>...</th>\n",
       "      <td>...</td>\n",
       "      <td>...</td>\n",
       "      <td>...</td>\n",
       "      <td>...</td>\n",
       "      <td>...</td>\n",
       "      <td>...</td>\n",
       "      <td>...</td>\n",
       "      <td>...</td>\n",
       "      <td>...</td>\n",
       "      <td>...</td>\n",
       "      <td>...</td>\n",
       "      <td>...</td>\n",
       "    </tr>\n",
       "    <tr>\n",
       "      <th>5013</th>\n",
       "      <td>2002-03-31</td>\n",
       "      <td>1381-01-11</td>\n",
       "      <td>1366.0</td>\n",
       "      <td>-</td>\n",
       "      <td>-</td>\n",
       "      <td>-</td>\n",
       "      <td>-</td>\n",
       "      <td>-</td>\n",
       "      <td>337441000000</td>\n",
       "      <td>5.18733</td>\n",
       "      <td>1.708294</td>\n",
       "      <td>0.511098</td>\n",
       "    </tr>\n",
       "    <tr>\n",
       "      <th>5014</th>\n",
       "      <td>2002-03-30</td>\n",
       "      <td>1381-01-10</td>\n",
       "      <td>1366.0</td>\n",
       "      <td>-</td>\n",
       "      <td>-</td>\n",
       "      <td>-</td>\n",
       "      <td>-</td>\n",
       "      <td>-</td>\n",
       "      <td>337441000000</td>\n",
       "      <td>5.18733</td>\n",
       "      <td>1.708294</td>\n",
       "      <td>0.511098</td>\n",
       "    </tr>\n",
       "    <tr>\n",
       "      <th>5015</th>\n",
       "      <td>2002-03-27</td>\n",
       "      <td>1381-01-07</td>\n",
       "      <td>1366.0</td>\n",
       "      <td>-</td>\n",
       "      <td>-</td>\n",
       "      <td>-</td>\n",
       "      <td>-</td>\n",
       "      <td>-</td>\n",
       "      <td>337441000000</td>\n",
       "      <td>5.18733</td>\n",
       "      <td>1.708294</td>\n",
       "      <td>0.511098</td>\n",
       "    </tr>\n",
       "    <tr>\n",
       "      <th>5016</th>\n",
       "      <td>2002-03-26</td>\n",
       "      <td>1381-01-06</td>\n",
       "      <td>1366.0</td>\n",
       "      <td>-</td>\n",
       "      <td>-</td>\n",
       "      <td>-</td>\n",
       "      <td>-</td>\n",
       "      <td>-</td>\n",
       "      <td>337441000000</td>\n",
       "      <td>5.18733</td>\n",
       "      <td>1.708294</td>\n",
       "      <td>0.511098</td>\n",
       "    </tr>\n",
       "    <tr>\n",
       "      <th>5017</th>\n",
       "      <td>2002-03-19</td>\n",
       "      <td>1380-12-28</td>\n",
       "      <td>1366.0</td>\n",
       "      <td>-</td>\n",
       "      <td>-</td>\n",
       "      <td>10135</td>\n",
       "      <td>13895250</td>\n",
       "      <td>-</td>\n",
       "      <td>337441000000</td>\n",
       "      <td>-</td>\n",
       "      <td>-</td>\n",
       "      <td>-</td>\n",
       "    </tr>\n",
       "  </tbody>\n",
       "</table>\n",
       "<p>5018 rows × 12 columns</p>\n",
       "</div>"
      ],
      "text/plain": [
       "     تاریخ میلادی  تاریخ شمسی  آخرین معامله میزان تغییر درصد تغییر        حجم  \\\n",
       "0      2023-01-03  1401-10-13     1818560.0       -2233  -0.001226  243115147   \n",
       "1      2023-01-02  1401-10-12     1820793.0       28128   0.015691  393026618   \n",
       "2      2023-01-01  1401-10-11     1792665.0      -36475  -0.019941  536635834   \n",
       "3      2022-12-31  1401-10-10     1829140.0      -73189  -0.038473  993447518   \n",
       "4      2022-12-28  1401-10-07     1902329.0       99894   0.055422  740953989   \n",
       "...           ...         ...           ...         ...        ...        ...   \n",
       "5013   2002-03-31  1381-01-11        1366.0           -          -          -   \n",
       "5014   2002-03-30  1381-01-10        1366.0           -          -          -   \n",
       "5015   2002-03-27  1381-01-07        1366.0           -          -          -   \n",
       "5016   2002-03-26  1381-01-06        1366.0           -          -          -   \n",
       "5017   2002-03-19  1380-12-28        1366.0           -          -      10135   \n",
       "\n",
       "       ارزش معاملات سهام شناور        ارزش بازار   P/E-ttm       P/B       P/S  \n",
       "0     1228814419418      0.237  7324831194524502         -         -         -  \n",
       "1     2185624031836     0.2364  7333827742044502  5.920952  3.295385  1.901321  \n",
       "2     2966493849133     0.2345  7220531918556502  5.826747  3.244476  1.871949  \n",
       "3     4881891737450          -  7367448814396502  5.948908  3.310492  1.910038  \n",
       "4     4739281486871          -  7662239165340502  6.194025  3.442953  1.986463  \n",
       "...             ...        ...               ...       ...       ...       ...  \n",
       "5013              -          -      337441000000   5.18733  1.708294  0.511098  \n",
       "5014              -          -      337441000000   5.18733  1.708294  0.511098  \n",
       "5015              -          -      337441000000   5.18733  1.708294  0.511098  \n",
       "5016              -          -      337441000000   5.18733  1.708294  0.511098  \n",
       "5017       13895250          -      337441000000         -         -         -  \n",
       "\n",
       "[5018 rows x 12 columns]"
      ]
     },
     "execution_count": 52,
     "metadata": {},
     "output_type": "execute_result"
    }
   ],
   "source": [
    "data[:5018]"
   ]
  }
 ],
 "metadata": {
  "kernelspec": {
   "display_name": "inv_mng_prj",
   "language": "python",
   "name": "python3"
  },
  "language_info": {
   "codemirror_mode": {
    "name": "ipython",
    "version": 3
   },
   "file_extension": ".py",
   "mimetype": "text/x-python",
   "name": "python",
   "nbconvert_exporter": "python",
   "pygments_lexer": "ipython3",
   "version": "3.10.0"
  },
  "orig_nbformat": 4,
  "vscode": {
   "interpreter": {
    "hash": "f287b3f52836ae795f710361b617a45f6fcae253de3d4fe1ee211c8b8c38d902"
   }
  }
 },
 "nbformat": 4,
 "nbformat_minor": 2
}
