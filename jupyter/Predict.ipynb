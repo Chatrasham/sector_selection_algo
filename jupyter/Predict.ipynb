{
 "cells": [
  {
   "cell_type": "code",
   "execution_count": 138,
   "metadata": {},
   "outputs": [],
   "source": [
    "import os\n",
    "import pandas as pd\n",
    "import math\n",
    "import numpy as np\n",
    "from sklearn.linear_model import LinearRegression"
   ]
  },
  {
   "cell_type": "code",
   "execution_count": 124,
   "metadata": {},
   "outputs": [],
   "source": [
    "month_to_predict = 6\n",
    "year_to_predict = 1401"
   ]
  },
  {
   "cell_type": "code",
   "execution_count": 125,
   "metadata": {},
   "outputs": [],
   "source": [
    "desktop = os.path.join(os.path.join(os.path.expanduser('~')), 'Desktop') \n",
    "processed_data_path = os.path.join(desktop, \"processed_data\")\n",
    "list_of_files = os.listdir(processed_data_path)"
   ]
  },
  {
   "cell_type": "code",
   "execution_count": 144,
   "metadata": {},
   "outputs": [],
   "source": [
    "for file in list_of_files:\n",
    "    data = pd.read_csv(processed_data_path+ \"\\\\\" + file)\n",
    "    idx = data[(data.month == month_to_predict ) & (data.year == year_to_predict)].index[0]\n",
    "    X = data[[\"1month_return\",\"1m_3m\",\"1m_6m\"]][0:idx]\n",
    "    y = data[[\"month_return\"]][0:idx]\n",
    "    reg = LinearRegression().fit(X, y)\n",
    "    reg.predict(data[(data.month == month_to_predict ) & (data.year == year_to_predict)][[\"1month_return\",\"1m_3m\",\"1m_6m\"]])\n",
    "    predicted_return = reg.predict(data[(data.month == month_to_predict ) & (data.year == year_to_predict)][[\"1month_return\",\"1m_3m\",\"1m_6m\"]])[0][0]\n",
    "    realized_return = data[[\"month_return\"]].iloc[idx]"
   ]
  }
 ],
 "metadata": {
  "kernelspec": {
   "display_name": "inv_mng_prj",
   "language": "python",
   "name": "python3"
  },
  "language_info": {
   "codemirror_mode": {
    "name": "ipython",
    "version": 3
   },
   "file_extension": ".py",
   "mimetype": "text/x-python",
   "name": "python",
   "nbconvert_exporter": "python",
   "pygments_lexer": "ipython3",
   "version": "3.10.0"
  },
  "orig_nbformat": 4,
  "vscode": {
   "interpreter": {
    "hash": "f287b3f52836ae795f710361b617a45f6fcae253de3d4fe1ee211c8b8c38d902"
   }
  }
 },
 "nbformat": 4,
 "nbformat_minor": 2
}
