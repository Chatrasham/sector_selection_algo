{
 "cells": [
  {
   "cell_type": "code",
   "execution_count": 1,
   "metadata": {},
   "outputs": [],
   "source": [
    "import os\n",
    "import pandas as pd\n",
    "import math\n",
    "import numpy as np\n",
    "from sklearn.linear_model import LinearRegression"
   ]
  },
  {
   "cell_type": "code",
   "execution_count": 2,
   "metadata": {},
   "outputs": [],
   "source": [
    "month_to_predict = 1\n",
    "year_to_predict = 1401"
   ]
  },
  {
   "cell_type": "code",
   "execution_count": 3,
   "metadata": {},
   "outputs": [],
   "source": [
    "desktop = os.path.join(os.path.join(os.path.expanduser('~')), 'Desktop') \n",
    "processed_data_path = os.path.join(desktop, \"processed_data\")\n",
    "list_of_files = os.listdir(processed_data_path)\n",
    "resutl_df = pd.DataFrame(columns=[\"sector\",\"predicted_excess_return\",\"realized_excess_return\",\"realized_return\"])"
   ]
  },
  {
   "cell_type": "code",
   "execution_count": 4,
   "metadata": {},
   "outputs": [
    {
     "data": {
      "text/plain": [
       "4.644902108222384"
      ]
     },
     "execution_count": 4,
     "metadata": {},
     "output_type": "execute_result"
    }
   ],
   "source": [
    "for file in list_of_files:\n",
    "    data = pd.read_csv(processed_data_path+ \"\\\\\" + file)\n",
    "    idx = data[(data.month == month_to_predict ) & (data.year == year_to_predict)].index[0]\n",
    "    X = data[[\"1month_return\",\"1m_3m\",\"1m_6m\"]][0:idx]\n",
    "    y = data[[\"month_excess_return\"]][0:idx]\n",
    "    reg = LinearRegression().fit(X, y)\n",
    "    reg.predict(data[(data.month == month_to_predict ) & (data.year == year_to_predict)][[\"1month_return\",\"1m_3m\",\"1m_6m\"]])\n",
    "    predicted_return = reg.predict(data[(data.month == month_to_predict ) & (data.year == year_to_predict)][[\"1month_return\",\"1m_3m\",\"1m_6m\"]])[0][0]\n",
    "    realized_excess_return = data[(data.month == month_to_predict ) & (data.year == year_to_predict)][[\"month_excess_return\"]].iloc[0].item()\n",
    "    realized_return = data[(data.month == month_to_predict ) & (data.year == year_to_predict)][[\"return\"]].iloc[0].item()\n",
    "    new_row = [file.split(\".\")[0], predicted_return, realized_excess_return ,realized_return]\n",
    "    resutl_df.loc[len(resutl_df)] = new_row\n",
    "    \n",
    "resutl_df = resutl_df.sort_values(\"predicted_excess_return\", ascending=False).reset_index()\n",
    "long_leg_return = resutl_df[\"realized_return\"].iloc[0:3].mean()\n",
    "short_leg_return = resutl_df[\"realized_return\"].iloc[-3:].mean()\n",
    "portfolio_return = long_leg_return - short_leg_return\n",
    "portfolio_return"
   ]
  },
  {
   "cell_type": "code",
   "execution_count": 7,
   "metadata": {},
   "outputs": [
    {
     "data": {
      "text/plain": [
       "'چند رشته اي ص'"
      ]
     },
     "execution_count": 7,
     "metadata": {},
     "output_type": "execute_result"
    }
   ],
   "source": [
    "file.split(\".\")[0]"
   ]
  }
 ],
 "metadata": {
  "kernelspec": {
   "display_name": "inv_mng_prj",
   "language": "python",
   "name": "python3"
  },
  "language_info": {
   "codemirror_mode": {
    "name": "ipython",
    "version": 3
   },
   "file_extension": ".py",
   "mimetype": "text/x-python",
   "name": "python",
   "nbconvert_exporter": "python",
   "pygments_lexer": "ipython3",
   "version": "3.10.0"
  },
  "orig_nbformat": 4,
  "vscode": {
   "interpreter": {
    "hash": "f287b3f52836ae795f710361b617a45f6fcae253de3d4fe1ee211c8b8c38d902"
   }
  }
 },
 "nbformat": 4,
 "nbformat_minor": 2
}
